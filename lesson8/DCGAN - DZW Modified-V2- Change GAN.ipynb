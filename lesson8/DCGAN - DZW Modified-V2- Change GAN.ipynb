{
 "cells": [
  {
   "cell_type": "markdown",
   "metadata": {
    "deletable": true,
    "editable": true
   },
   "source": [
    "# Generative Adversarial Networks in Keras"
   ]
  },
  {
   "cell_type": "code",
   "execution_count": 592,
   "metadata": {
    "collapsed": false
   },
   "outputs": [],
   "source": [
    "import xgboost"
   ]
  },
  {
   "cell_type": "code",
   "execution_count": 593,
   "metadata": {
    "collapsed": false
   },
   "outputs": [
    {
     "name": "stdout",
     "output_type": "stream",
     "text": [
      "Name: Keras\r\n",
      "Version: 1.2.2\r\n",
      "Summary: Deep Learning for Python\r\n",
      "Home-page: https://github.com/fchollet/keras\r\n",
      "Author: Francois Chollet\r\n",
      "Author-email: francois.chollet@gmail.com\r\n",
      "License: MIT\r\n",
      "Location: /home/ubuntu/anaconda3/lib/python3.6/site-packages\r\n",
      "Requires: theano, pyyaml, six\r\n"
     ]
    }
   ],
   "source": [
    "import tensorflow\n",
    "import keras\n",
    "!pip show keras\n",
    "#print(keras.version)"
   ]
  },
  {
   "cell_type": "code",
   "execution_count": 594,
   "metadata": {
    "collapsed": false,
    "deletable": true,
    "editable": true
   },
   "outputs": [],
   "source": [
    "import matplotlib\n",
    "%matplotlib inline\n",
    "import numpy as np\n",
    "import importlib\n",
    "import utils2; importlib.reload(utils2)\n",
    "from utils2 import *\n",
    "\n",
    "from tqdm import tqdm"
   ]
  },
  {
   "cell_type": "markdown",
   "metadata": {
    "deletable": true,
    "editable": true
   },
   "source": [
    "## The original GAN!"
   ]
  },
  {
   "cell_type": "markdown",
   "metadata": {
    "deletable": true,
    "editable": true
   },
   "source": [
    "See [this paper](https://arxiv.org/abs/1406.2661) for details of the approach we'll try first for our first GAN. We'll see if we can generate hand-drawn numbers based on MNIST, so let's load that dataset first.\n",
    "\n",
    "We'll be refering to the discriminator as 'D' and the generator as 'G'."
   ]
  },
  {
   "cell_type": "code",
   "execution_count": 595,
   "metadata": {
    "collapsed": false,
    "deletable": true,
    "editable": true
   },
   "outputs": [
    {
     "data": {
      "text/plain": [
       "(60000, 28, 28)"
      ]
     },
     "execution_count": 595,
     "metadata": {},
     "output_type": "execute_result"
    }
   ],
   "source": [
    "#keras tutorial if needed\n",
    "#https://elitedatascience.com/keras-tutorial-deep-learning-in-python#step-4\n",
    "from keras.datasets import mnist\n",
    "(X_train, y_train), (X_test, y_test) = mnist.load_data()\n",
    "X_train.shape"
   ]
  },
  {
   "cell_type": "code",
   "execution_count": 596,
   "metadata": {
    "collapsed": true,
    "deletable": true,
    "editable": true
   },
   "outputs": [],
   "source": [
    "n = len(X_train)"
   ]
  },
  {
   "cell_type": "code",
   "execution_count": 597,
   "metadata": {
    "collapsed": false,
    "deletable": true,
    "editable": true
   },
   "outputs": [],
   "source": [
    "X_train = X_train.reshape(n, -1).astype(np.float32)\n",
    "X_test = X_test.reshape(len(X_test), -1).astype(np.float32)"
   ]
  },
  {
   "cell_type": "code",
   "execution_count": 598,
   "metadata": {
    "collapsed": false,
    "deletable": true,
    "editable": true
   },
   "outputs": [],
   "source": [
    "X_train /= 255.; X_test /= 255."
   ]
  },
  {
   "cell_type": "code",
   "execution_count": 599,
   "metadata": {
    "collapsed": false,
    "deletable": true,
    "editable": true
   },
   "outputs": [
    {
     "name": "stdout",
     "output_type": "stream",
     "text": [
      "(60000, 784)\n"
     ]
    }
   ],
   "source": [
    "# this must be the train images\n",
    "print (X_train.shape)"
   ]
  },
  {
   "cell_type": "code",
   "execution_count": 600,
   "metadata": {
    "collapsed": false,
    "deletable": true,
    "editable": true
   },
   "outputs": [
    {
     "name": "stdout",
     "output_type": "stream",
     "text": [
      "(10000, 784)\n"
     ]
    }
   ],
   "source": [
    "# this could be the test images\n",
    "print (X_test.shape)"
   ]
  },
  {
   "cell_type": "code",
   "execution_count": 601,
   "metadata": {
    "collapsed": false,
    "deletable": true,
    "editable": true
   },
   "outputs": [
    {
     "name": "stdout",
     "output_type": "stream",
     "text": [
      "(60000,)\n"
     ]
    }
   ],
   "source": [
    "# this must be the labels for the 60k images\n",
    "print (y_train.shape)"
   ]
  },
  {
   "cell_type": "markdown",
   "metadata": {
    "deletable": true,
    "editable": true
   },
   "source": [
    "## Train"
   ]
  },
  {
   "cell_type": "markdown",
   "metadata": {
    "deletable": true,
    "editable": true
   },
   "source": [
    "This is just a helper to plot a bunch of generated images."
   ]
  },
  {
   "cell_type": "code",
   "execution_count": 602,
   "metadata": {
    "collapsed": true,
    "deletable": true,
    "editable": true
   },
   "outputs": [],
   "source": [
    "def plot_gen(G, n_ex=16):\n",
    "    plot_multi(G.predict(noise(n_ex)).reshape(n_ex, 28,28), cmap='gray')"
   ]
  },
  {
   "cell_type": "markdown",
   "metadata": {
    "deletable": true,
    "editable": true
   },
   "source": [
    "Create some random data for the generator."
   ]
  },
  {
   "cell_type": "code",
   "execution_count": 603,
   "metadata": {
    "collapsed": true,
    "deletable": true,
    "editable": true
   },
   "outputs": [],
   "source": [
    "def noise(bs): return np.random.rand(bs,100)"
   ]
  },
  {
   "cell_type": "markdown",
   "metadata": {
    "deletable": true,
    "editable": true
   },
   "source": [
    "Create a batch of some real and some generated data, with appropriate labels, for the discriminator."
   ]
  },
  {
   "cell_type": "code",
   "execution_count": 604,
   "metadata": {
    "collapsed": false,
    "deletable": true,
    "editable": true
   },
   "outputs": [
    {
     "name": "stdout",
     "output_type": "stream",
     "text": [
      "(60000, 784)\n",
      "[0, 0, 0, 0, 1, 1, 1, 1]\n"
     ]
    }
   ],
   "source": [
    "#print(128//2) # the // makes it an integer\n",
    "#print(n)\n",
    "#print(np.random.randint(0,n,size=128//2))\n",
    "#print(np.random.randint(0,n,size=128//2).shape)\n",
    "\n",
    "# given random image from 0 to 60k\n",
    "#print(X_train[np.random.randint(0,n,size=128//2)])\n",
    "print(X_train.shape)\n",
    "#plt.imshow(X_train[30000][2])\n",
    "\n",
    "szt = 4\n",
    "# this creates a 1D vector. 4 zeros and 4 ones\n",
    "print([0]*szt + [1]*szt)\n",
    "\n",
    "# reason it looks odd is because we flatten it.\n",
    "#imgplot = plt.imshow(X_train[np.random.randint(0,n,size=128//2)])\n",
    "#imgplot = plt.imshow(X_train[np.random.randint(0,n,size=128//2)])"
   ]
  },
  {
   "cell_type": "code",
   "execution_count": 605,
   "metadata": {
    "collapsed": true,
    "deletable": true,
    "editable": true
   },
   "outputs": [],
   "source": [
    "def data_D(sz, G):\n",
    "    # get real image. the real image here is flattened.\n",
    "    real_img = X_train[np.random.randint(0,n,size=sz)]\n",
    "    # get fake image from generator\n",
    "    X = np.concatenate((real_img, G.predict(noise(sz))))\n",
    "    # return fake + real image, \n",
    "    return X, [0]*sz + [1]*sz"
   ]
  },
  {
   "cell_type": "code",
   "execution_count": 606,
   "metadata": {
    "collapsed": true,
    "deletable": true,
    "editable": true
   },
   "outputs": [],
   "source": [
    "def make_trainable(net, val):\n",
    "    net.trainable = val\n",
    "    for l in net.layers: l.trainable = val"
   ]
  },
  {
   "cell_type": "markdown",
   "metadata": {
    "deletable": true,
    "editable": true
   },
   "source": [
    "Train a few epochs, and return the losses for D and G. In each epoch we:\n",
    "\n",
    "1. Train D on one batch from data_D()\n",
    "2. Train G to create images that the discriminator predicts as real."
   ]
  },
  {
   "cell_type": "code",
   "execution_count": 607,
   "metadata": {
    "collapsed": true,
    "deletable": true,
    "editable": true
   },
   "outputs": [],
   "source": [
    "# train on half real half fake images\n",
    "def train(D, G, m, nb_epoch=5000, bs=128):\n",
    "    dl,gl=[],[]\n",
    "    for e in tqdm(range(nb_epoch)):\n",
    "        # data_D. Is for the discriminator\n",
    "        # Inputs:  an image from the geneator , size of image\n",
    "        # Outputs: binary is the image real or fake?\n",
    "        # returns real + fake image, labels of real(0) and fake(1) images\n",
    "        X,y = data_D(bs//2, G)\n",
    "        dl.append(D.train_on_batch(X,y))\n",
    "        make_trainable(D, False)\n",
    "        gl.append(m.train_on_batch(noise(bs), np.zeros([bs])))\n",
    "        #gl.append(m.train_on_batch(noise(bs), np.zeros([bs])))\n",
    "        make_trainable(D, True)\n",
    "    return dl,gl"
   ]
  },
  {
   "cell_type": "markdown",
   "metadata": {
    "deletable": true,
    "editable": true
   },
   "source": [
    "## MLP GAN"
   ]
  },
  {
   "cell_type": "markdown",
   "metadata": {
    "deletable": true,
    "editable": true
   },
   "source": [
    "We'll keep thinks simple by making D & G plain ole' MLPs."
   ]
  },
  {
   "cell_type": "code",
   "execution_count": 608,
   "metadata": {
    "collapsed": false,
    "deletable": true,
    "editable": true
   },
   "outputs": [],
   "source": [
    "MLP_G = Sequential([\n",
    "    Dense(200, input_shape=(100,), activation='relu'),\n",
    "    Dense(400, activation='relu'),\n",
    "    Dense(784, activation='sigmoid'),\n",
    "])"
   ]
  },
  {
   "cell_type": "code",
   "execution_count": 609,
   "metadata": {
    "collapsed": false,
    "deletable": true,
    "editable": true
   },
   "outputs": [],
   "source": [
    "MLP_D = Sequential([\n",
    "    Dense(300, input_shape=(784,), activation='relu'),\n",
    "    Dense(300, activation='relu'),\n",
    "    Dense(1, activation='sigmoid'),\n",
    "])\n",
    "MLP_D.compile(Adam(1e-4), \"binary_crossentropy\")"
   ]
  },
  {
   "cell_type": "code",
   "execution_count": 610,
   "metadata": {
    "collapsed": false,
    "deletable": true,
    "editable": true
   },
   "outputs": [],
   "source": [
    "MLP_m = Sequential([MLP_G,MLP_D])\n",
    "# this i think is the loss function that we want to minimize. I think i sort of get it\n",
    "# see compile here https://keras.io/\n",
    "MLP_m.compile(Adam(1e-4), \"binary_crossentropy\")"
   ]
  },
  {
   "cell_type": "code",
   "execution_count": 611,
   "metadata": {
    "collapsed": false,
    "deletable": true,
    "editable": true
   },
   "outputs": [
    {
     "name": "stderr",
     "output_type": "stream",
     "text": [
      "100%|██████████| 50/50 [00:04<00:00, 10.55it/s]\n"
     ]
    }
   ],
   "source": [
    "#dl,gl = train(MLP_D, MLP_G, 4000)\n",
    "dl,gl = train(MLP_D, MLP_G, MLP_m, 50)\n",
    "#dl,gl = train(MLP_D, MLP_G, MLP_m, 4000)"
   ]
  },
  {
   "cell_type": "markdown",
   "metadata": {
    "deletable": true,
    "editable": true
   },
   "source": [
    "The loss plots for most GANs are nearly impossible to interpret - which is one of the things that make them hard to train."
   ]
  },
  {
   "cell_type": "code",
   "execution_count": 612,
   "metadata": {
    "collapsed": false,
    "deletable": true,
    "editable": true
   },
   "outputs": [
    {
     "data": {
      "text/plain": [
       "[<matplotlib.lines.Line2D at 0x7fbc6538b908>]"
      ]
     },
     "execution_count": 612,
     "metadata": {},
     "output_type": "execute_result"
    },
    {
     "data": {
      "image/png": "[encoded data removed]",
      "text/plain": [
       "<matplotlib.figure.Figure at 0x7fbc653a5e10>"
      ]
     },
     "metadata": {},
     "output_type": "display_data"
    }
   ],
   "source": [
    "# loss at each step\n",
    "# are these good or bad?\n",
    "plt.plot(dl[100:])"
   ]
  },
  {
   "cell_type": "code",
   "execution_count": 613,
   "metadata": {
    "collapsed": false,
    "deletable": true,
    "editable": true
   },
   "outputs": [
    {
     "data": {
      "text/plain": [
       "[<matplotlib.lines.Line2D at 0x7fbc652eaa58>]"
      ]
     },
     "execution_count": 613,
     "metadata": {},
     "output_type": "execute_result"
    },
    {
     "data": {
      "image/png": "[encoded data removed]",
      "text/plain": [
       "<matplotlib.figure.Figure at 0x7fbc65545d68>"
      ]
     },
     "metadata": {},
     "output_type": "display_data"
    }
   ],
   "source": [
    "plt.plot(gl[100:])"
   ]
  },
  {
   "cell_type": "markdown",
   "metadata": {
    "deletable": true,
    "editable": true
   },
   "source": [
    "This is what's known in the literature as \"mode collapse\"."
   ]
  },
  {
   "cell_type": "code",
   "execution_count": 614,
   "metadata": {
    "collapsed": false,
    "deletable": true,
    "editable": true
   },
   "outputs": [
    {
     "data": {
      "image/png": "[encoded data removed]",
      "text/plain": [
       "<matplotlib.figure.Figure at 0x7fbc654d5198>"
      ]
     },
     "metadata": {},
     "output_type": "display_data"
    }
   ],
   "source": [
    "# this explains mode collapse\n",
    "# https://www.quora.com/Whats-kind-of-generative-result-means-mode-collapse-in-Generative-adversarial-networks\n",
    "# very little diversity\n",
    "# seems to be explained when the \" Generator\" maps random noise to the same input image?\n",
    "\n",
    "#plot_gen()\n",
    "plot_gen(MLP_G)\n",
    "# generator and discriminator have reached a stale mate"
   ]
  },
  {
   "cell_type": "code",
   "execution_count": 615,
   "metadata": {
    "collapsed": false,
    "deletable": true,
    "editable": true
   },
   "outputs": [],
   "source": [
    "#plot_gen(MLP_D)\n",
    "#plot_gen(MLP_G)\n",
    "#plot_gen(MLP_G)"
   ]
  },
  {
   "cell_type": "markdown",
   "metadata": {
    "deletable": true,
    "editable": true
   },
   "source": [
    "OK, so that didn't work. Can we do better?..."
   ]
  },
  {
   "cell_type": "markdown",
   "metadata": {
    "deletable": true,
    "editable": true
   },
   "source": [
    "## DCGAN"
   ]
  },
  {
   "cell_type": "markdown",
   "metadata": {
    "deletable": true,
    "editable": true
   },
   "source": [
    "There's lots of ideas out there to make GANs train better, since they are notoriously painful to get working. The [paper introducing DCGANs](https://arxiv.org/abs/1511.06434) is the main basis for our next section. Add see https://github.com/soumith/ganhacks for many tips!\n",
    "\n",
    "Because we're using a CNN from now on, we'll reshape our digits into proper images."
   ]
  },
  {
   "cell_type": "code",
   "execution_count": 616,
   "metadata": {
    "collapsed": false,
    "deletable": true,
    "editable": true
   },
   "outputs": [],
   "source": [
    "X_train = X_train.reshape(n, 28, 28, 1)\n",
    "X_test = X_test.reshape(len(X_test), 28, 28, 1)"
   ]
  },
  {
   "cell_type": "markdown",
   "metadata": {
    "deletable": true,
    "editable": true
   },
   "source": [
    "Our generator uses a number of upsampling steps as suggested in the above papers. We use nearest neighbor upsampling rather than fractionally strided convolutions, as discussed in our style transfer notebook."
   ]
  },
  {
   "cell_type": "code",
   "execution_count": 617,
   "metadata": {
    "collapsed": false,
    "deletable": true,
    "editable": true
   },
   "outputs": [],
   "source": [
    "CNN_G = Sequential([\n",
    "    #Dense(512*7*7, input_dim=100, activation=LeakyReLU()),\n",
    "    Dense(128*7*7, input_dim=100, activation=LeakyReLU()),\n",
    "    BatchNormalization(mode=2),\n",
    "    #BatchNormalization(),\n",
    "    #Reshape((7, 7, 512)),\n",
    "    Reshape((7, 7, 128)),\n",
    "    UpSampling2D(),\n",
    "    # this means 64 filters, each filter has size of 3 by 3\n",
    "    #Convolution2D(64, 3, 3, border_mode='same', activation=LeakyReLU()),\n",
    "    Convolution2D(64, 5, 5, border_mode='same', activation=LeakyReLU()),\n",
    "    BatchNormalization(mode=2),\n",
    "    #BatchNormalization(),\n",
    "    UpSampling2D(),\n",
    "    #Convolution2D(32, 3, 3, border_mode='same', activation=LeakyReLU()),\n",
    "    #BatchNormalization(mode=2),\n",
    "    #BatchNormalization(),\n",
    "    Convolution2D(1, 5, 5, border_mode='same', activation='sigmoid')\n",
    "])"
   ]
  },
  {
   "cell_type": "code",
   "execution_count": 618,
   "metadata": {
    "collapsed": true
   },
   "outputs": [],
   "source": [
    "def initNormal(shape, name=None):\n",
    "    return initializations.normal(shape, scale=0.02, name=name)"
   ]
  },
  {
   "cell_type": "code",
   "execution_count": 619,
   "metadata": {
    "collapsed": false
   },
   "outputs": [],
   "source": [
    "# for some reasons this has a different output shape\n",
    "\n",
    "#CNN_G = Sequential()\n",
    "#CNN_G.add(Dense( input_dim=100, output_dim=(128*7*7), init=initNormal))\n",
    "#CNN_G.add(Activation('relu'))\n",
    "#CNN_G.add(Reshape((128, 7, 7)))\t\n",
    "#CNN_G.add(UpSampling2D(size=(2, 2)))\n",
    "#CNN_G.add(Convolution2D(64, 5, 5, border_mode='same'))\n",
    "#CNN_G.add(Activation('relu')\n",
    "#CNN_G.add(UpSampling2D(size=(2, 2)))\n",
    "#CNN_G.add(Convolution2D(1, 5, 5, border_mode='same'))\n",
    "#CNN_G.add(Activation('tanh'))\n",
    "#generator.compile(loss='binary_crossentropy', optimizer=adam, metrics=['accuracy'])"
   ]
  },
  {
   "cell_type": "code",
   "execution_count": 620,
   "metadata": {
    "collapsed": false,
    "deletable": true,
    "editable": true
   },
   "outputs": [
    {
     "name": "stdout",
     "output_type": "stream",
     "text": [
      "____________________________________________________________________________________________________\n",
      "Layer (type)                     Output Shape          Param #     Connected to                     \n",
      "====================================================================================================\n",
      "dense_123 (Dense)                (None, 6272)          633472      dense_input_48[0][0]             \n",
      "____________________________________________________________________________________________________\n",
      "batchnormalization_36 (BatchNorm (None, 6272)          25088       dense_123[0][0]                  \n",
      "____________________________________________________________________________________________________\n",
      "reshape_21 (Reshape)             (None, 7, 7, 128)     0           batchnormalization_36[0][0]      \n",
      "____________________________________________________________________________________________________\n",
      "upsampling2d_37 (UpSampling2D)   (None, 14, 14, 128)   0           reshape_21[0][0]                 \n",
      "____________________________________________________________________________________________________\n",
      "convolution2d_75 (Convolution2D) (None, 14, 14, 64)    204864      upsampling2d_37[0][0]            \n",
      "____________________________________________________________________________________________________\n",
      "batchnormalization_37 (BatchNorm (None, 14, 14, 64)    256         convolution2d_75[0][0]           \n",
      "____________________________________________________________________________________________________\n",
      "upsampling2d_38 (UpSampling2D)   (None, 28, 28, 64)    0           batchnormalization_37[0][0]      \n",
      "____________________________________________________________________________________________________\n",
      "convolution2d_76 (Convolution2D) (None, 28, 28, 1)     1601        upsampling2d_38[0][0]            \n",
      "====================================================================================================\n",
      "Total params: 865,281\n",
      "Trainable params: 852,609\n",
      "Non-trainable params: 12,672\n",
      "____________________________________________________________________________________________________\n"
     ]
    }
   ],
   "source": [
    "CNN_G.summary()\n",
    "# compare this against just GAN. without deep convolutional\n",
    "#MLP_G = Sequential([\n",
    "#    Dense(200, input_shape=(100,), activation='relu'),\n",
    "#    Dense(400, activation='relu'),\n",
    "#    Dense(784, activation='sigmoid'),\n",
    "#])"
   ]
  },
  {
   "cell_type": "markdown",
   "metadata": {
    "deletable": true,
    "editable": true
   },
   "source": [
    "The discriminator uses a few downsampling steps through strided convolutions."
   ]
  },
  {
   "cell_type": "code",
   "execution_count": 621,
   "metadata": {
    "collapsed": false
   },
   "outputs": [],
   "source": [
    "CNN_D = Sequential()\n",
    "#CNN_D.add(Convolution2D(64, 5, 5, border_mode='same', subsample=(2,2), input_shape=(1,28,28), init=initNormal))\n",
    "CNN_D.add(Convolution2D(64, 5, 5, border_mode='same', subsample=(2,2), input_shape=(28,28,1)))\n",
    "CNN_D.add(LeakyReLU(0.2))\n",
    "CNN_D.add(Convolution2D(128, 5, 5, border_mode='same', subsample=(2,2)))\n",
    "CNN_D.add(LeakyReLU(0.2))\n",
    "CNN_D.add(Flatten())\n",
    "CNN_D.add(Dense(1))\n",
    "CNN_D.add(Activation('sigmoid'))\n",
    "\n",
    "CNN_D.compile(Adam(1e-3), \"binary_crossentropy\")\n",
    "    #discriminator.compile(loss='binary_crossentropy', optimizer=adam, metrics=['accuracy'])"
   ]
  },
  {
   "cell_type": "code",
   "execution_count": 622,
   "metadata": {
    "collapsed": false,
    "deletable": true,
    "editable": true
   },
   "outputs": [],
   "source": [
    "#CNN_D = Sequential([\n",
    "#    # see the input shape here, why doesnt it have to match the generator? i.e (1,1,1)?\n",
    "#    Convolution2D(256, 5, 5, subsample=(2,2), border_mode='same', \n",
    "#                  input_shape=(28, 28, 1), activation=LeakyReLU()),\n",
    "    # it doubles filters where prior it reduces filters\n",
    "    # what is the impact of doubling or increasing filters?\n",
    "    # wish i could see what the layers look likt?\n",
    "    # also may be helpful to draw out the architecture\n",
    "#    Convolution2D(512, 5, 5, subsample=(2,2), border_mode='same', activation=LeakyReLU()),\n",
    "#    Flatten(),\n",
    "#    Dense(256, activation=LeakyReLU()),\n",
    "#    # this layer is the same\n",
    "#    Dense(1, activation = 'sigmoid')\n",
    "#])\n",
    "\n",
    "#CNN_D.compile(Adam(1e-3), \"binary_crossentropy\")"
   ]
  },
  {
   "cell_type": "code",
   "execution_count": 623,
   "metadata": {
    "collapsed": true,
    "deletable": true,
    "editable": true
   },
   "outputs": [],
   "source": [
    "#MLP_D = Sequential([\n",
    "#    Dense(300, input_shape=(784,), activation='relu'),\n",
    "#    Dense(300, activation='relu'),\n",
    "#    Dense(1, activation='sigmoid'),\n",
    "#])\n",
    "#MLP_D.compile(Adam(1e-4), \"binary_crossentropy\")"
   ]
  },
  {
   "cell_type": "markdown",
   "metadata": {
    "deletable": true,
    "editable": true
   },
   "source": [
    "We train D a \"little bit\" so it can at least tell a real image from random noise."
   ]
  },
  {
   "cell_type": "code",
   "execution_count": 624,
   "metadata": {
    "collapsed": false,
    "deletable": true,
    "editable": true
   },
   "outputs": [
    {
     "name": "stdout",
     "output_type": "stream",
     "text": [
      "300\n",
      "Epoch 1/1\n",
      "1s - loss: 0.5361\n"
     ]
    },
    {
     "data": {
      "text/plain": [
       "<keras.callbacks.History at 0x7fbc64a38ac8>"
      ]
     },
     "execution_count": 624,
     "metadata": {},
     "output_type": "execute_result"
    }
   ],
   "source": [
    "sz = n//200\n",
    "#sz = n//50\n",
    "print(sz)\n",
    "x1 = np.concatenate([np.random.permutation(X_train)[:sz], CNN_G.predict(noise(sz))])\n",
    "CNN_D.fit(x1, [0]*sz + [1]*sz, batch_size=128, nb_epoch=1, verbose=2)"
   ]
  },
  {
   "cell_type": "code",
   "execution_count": 625,
   "metadata": {
    "collapsed": false
   },
   "outputs": [
    {
     "name": "stdout",
     "output_type": "stream",
     "text": [
      "(150, 28, 28, 1)\n",
      "(300, 28, 28, 1)\n",
      "(300, 28, 28, 1)\n"
     ]
    },
    {
     "data": {
      "image/png": "[encoded data removed]",
      "text/plain": [
       "<matplotlib.figure.Figure at 0x7fbc65030668>"
      ]
     },
     "metadata": {},
     "output_type": "display_data"
    }
   ],
   "source": [
    "#this works\n",
    "#test_results = CNN_G.predict(noise(sz))\n",
    "print(test_results.shape)\n",
    "\n",
    "test_real_image = np.random.permutation(X_train)[:sz]\n",
    "print(test_real_image.shape)\n",
    "\n",
    "test_results_old = CNN_G_test.predict(noise(sz))\n",
    "print(test_results_old.shape)\n",
    "\n",
    "plot_gen(CNN_G)"
   ]
  },
  {
   "cell_type": "code",
   "execution_count": 626,
   "metadata": {
    "collapsed": true,
    "deletable": true,
    "editable": true
   },
   "outputs": [],
   "source": [
    "CNN_m = Sequential([CNN_G, CNN_D])\n",
    "CNN_m.compile(Adam(1e-4), \"binary_crossentropy\")"
   ]
  },
  {
   "cell_type": "code",
   "execution_count": 627,
   "metadata": {
    "collapsed": false,
    "deletable": true,
    "editable": true
   },
   "outputs": [],
   "source": [
    "#K.set_value(CNN_D.optimizer.lr, 1e-3)\n",
    "#K.set_value(CNN_m.optimizer.lr, 1e-3)\n",
    "\n",
    "K.set_value(CNN_D.optimizer.lr, 2e-4)\n",
    "K.set_value(CNN_m.optimizer.lr, 2e-4)"
   ]
  },
  {
   "cell_type": "markdown",
   "metadata": {
    "deletable": true,
    "editable": true
   },
   "source": [
    "Now we can train D & G iteratively."
   ]
  },
  {
   "cell_type": "code",
   "execution_count": 628,
   "metadata": {
    "collapsed": true,
    "deletable": true,
    "editable": true
   },
   "outputs": [],
   "source": [
    "#tbCallBack = keras.callbacks.TensorBoard(log_dir='/Graph', \n",
    " #                                        histogram_freq=0, write_graph=True, write_images=True)"
   ]
  },
  {
   "cell_type": "code",
   "execution_count": 629,
   "metadata": {
    "collapsed": false,
    "deletable": true,
    "editable": true,
    "scrolled": true
   },
   "outputs": [
    {
     "name": "stderr",
     "output_type": "stream",
     "text": [
      "100%|██████████| 500/500 [00:36<00:00, 13.53it/s]\n"
     ]
    }
   ],
   "source": [
    "#dl,gl = train(CNN_D, CNN_G, CNN_m, 250)\n",
    "#dl,gl = train(CNN_D, CNN_G, CNN_m, 500)\n",
    "#dl,gl = train(CNN_D, CNN_G, CNN_m, 2500)\n",
    "dl,gl = train(CNN_D, CNN_G, CNN_m, 500)"
   ]
  },
  {
   "cell_type": "code",
   "execution_count": 630,
   "metadata": {
    "collapsed": false,
    "deletable": true,
    "editable": true
   },
   "outputs": [
    {
     "data": {
      "text/plain": [
       "[<matplotlib.lines.Line2D at 0x7fbc932a6da0>]"
      ]
     },
     "execution_count": 630,
     "metadata": {},
     "output_type": "execute_result"
    },
    {
     "data": {
      "image/png": "[encoded data removed]",
      "text/plain": [
       "<matplotlib.figure.Figure at 0x7fbc64df3198>"
      ]
     },
     "metadata": {},
     "output_type": "display_data"
    }
   ],
   "source": [
    "#print(dl)\n",
    "plt.plot(dl[10:])"
   ]
  },
  {
   "cell_type": "code",
   "execution_count": 631,
   "metadata": {
    "collapsed": false,
    "deletable": true,
    "editable": true
   },
   "outputs": [
    {
     "data": {
      "text/plain": [
       "[<matplotlib.lines.Line2D at 0x7fbd3c229128>]"
      ]
     },
     "execution_count": 631,
     "metadata": {},
     "output_type": "execute_result"
    },
    {
     "data": {
      "image/png": "[encoded data removed]",
      "text/plain": [
       "<matplotlib.figure.Figure at 0x7fbc8016ce80>"
      ]
     },
     "metadata": {},
     "output_type": "display_data"
    }
   ],
   "source": [
    "plt.plot(gl[10:])"
   ]
  },
  {
   "cell_type": "markdown",
   "metadata": {
    "deletable": true,
    "editable": true
   },
   "source": [
    "Better than our first effort, but still a lot to be desired:..."
   ]
  },
  {
   "cell_type": "code",
   "execution_count": 632,
   "metadata": {
    "collapsed": false,
    "deletable": true,
    "editable": true
   },
   "outputs": [
    {
     "data": {
      "image/png": "[encoded data removed]",
      "text/plain": [
       "<matplotlib.figure.Figure at 0x7fbc8ae68c88>"
      ]
     },
     "metadata": {},
     "output_type": "display_data"
    }
   ],
   "source": [
    "plot_gen(CNN_G)\n",
    "# very rough can see a 5\n",
    "# but still not so good"
   ]
  },
  {
   "cell_type": "markdown",
   "metadata": {
    "deletable": true,
    "editable": true
   },
   "source": [
    "## End"
   ]
  },
  {
   "cell_type": "markdown",
   "metadata": {},
   "source": [
    "Below is attempt to visualize the filters. The goal is visualize the filters may help to understand the CNN better"
   ]
  },
  {
   "cell_type": "code",
   "execution_count": 633,
   "metadata": {
    "collapsed": false
   },
   "outputs": [
    {
     "name": "stdout",
     "output_type": "stream",
     "text": [
      "____________________________________________________________________________________________________\n",
      "Layer (type)                     Output Shape          Param #     Connected to                     \n",
      "====================================================================================================\n",
      "convolution2d_77 (Convolution2D) (None, 14, 14, 64)    1664        convolution2d_input_15[0][0]     \n",
      "____________________________________________________________________________________________________\n",
      "leakyrelu_65 (LeakyReLU)         (None, 14, 14, 64)    0           convolution2d_77[0][0]           \n",
      "____________________________________________________________________________________________________\n",
      "convolution2d_78 (Convolution2D) (None, 7, 7, 128)     204928      leakyrelu_65[0][0]               \n",
      "____________________________________________________________________________________________________\n",
      "leakyrelu_66 (LeakyReLU)         (None, 7, 7, 128)     0           convolution2d_78[0][0]           \n",
      "____________________________________________________________________________________________________\n",
      "flatten_14 (Flatten)             (None, 6272)          0           leakyrelu_66[0][0]               \n",
      "____________________________________________________________________________________________________\n",
      "dense_124 (Dense)                (None, 1)             6273        flatten_14[0][0]                 \n",
      "____________________________________________________________________________________________________\n",
      "activation_30 (Activation)       (None, 1)             0           dense_124[0][0]                  \n",
      "====================================================================================================\n",
      "Total params: 212,865\n",
      "Trainable params: 212,865\n",
      "Non-trainable params: 0\n",
      "____________________________________________________________________________________________________\n"
     ]
    }
   ],
   "source": [
    "# this is soooo coool. I get to understand what the model looks like\n",
    "# this shows me the architecture\n",
    "CNN_D.summary()"
   ]
  },
  {
   "cell_type": "code",
   "execution_count": 634,
   "metadata": {
    "collapsed": false
   },
   "outputs": [],
   "source": [
    "# this gets the weights\n",
    "#CNN_D.get_weights()"
   ]
  },
  {
   "cell_type": "code",
   "execution_count": 635,
   "metadata": {
    "collapsed": false
   },
   "outputs": [
    {
     "data": {
      "text/plain": [
       "[<keras.layers.convolutional.Convolution2D at 0x7fbc64cc6940>,\n",
       " <keras.layers.advanced_activations.LeakyReLU at 0x7fbc64cc69b0>,\n",
       " <keras.layers.convolutional.Convolution2D at 0x7fbc64cc12e8>,\n",
       " <keras.layers.advanced_activations.LeakyReLU at 0x7fbc64cc18d0>,\n",
       " <keras.layers.core.Flatten at 0x7fbc64c62ef0>,\n",
       " <keras.layers.core.Dense at 0x7fbc64c70c50>,\n",
       " <keras.layers.core.Activation at 0x7fbc64c7ee80>]"
      ]
     },
     "execution_count": 635,
     "metadata": {},
     "output_type": "execute_result"
    }
   ],
   "source": [
    "CNN_D.layers"
   ]
  },
  {
   "cell_type": "code",
   "execution_count": 636,
   "metadata": {
    "collapsed": false
   },
   "outputs": [
    {
     "data": {
      "text/plain": [
       "[<keras.layers.convolutional.Convolution2D at 0x7fbc64cc6940>,\n",
       " <keras.layers.advanced_activations.LeakyReLU at 0x7fbc64cc69b0>,\n",
       " <keras.layers.convolutional.Convolution2D at 0x7fbc64cc12e8>,\n",
       " <keras.layers.advanced_activations.LeakyReLU at 0x7fbc64cc18d0>,\n",
       " <keras.layers.core.Flatten at 0x7fbc64c62ef0>,\n",
       " <keras.layers.core.Dense at 0x7fbc64c70c50>,\n",
       " <keras.layers.core.Activation at 0x7fbc64c7ee80>]"
      ]
     },
     "execution_count": 636,
     "metadata": {},
     "output_type": "execute_result"
    }
   ],
   "source": [
    "CNN_D.layers"
   ]
  },
  {
   "cell_type": "code",
   "execution_count": 637,
   "metadata": {
    "collapsed": false
   },
   "outputs": [
    {
     "name": "stdout",
     "output_type": "stream",
     "text": [
      "<class 'numpy.ndarray'>\n",
      "784\n",
      "(1, 28, 28)\n",
      "784\n",
      "(1, 28, 28, 1)\n"
     ]
    },
    {
     "data": {
      "text/plain": [
       "<matplotlib.image.AxesImage at 0x7fbc82c42240>"
      ]
     },
     "execution_count": 637,
     "metadata": {},
     "output_type": "execute_result"
    },
    {
     "data": {
      "image/png": "[encoded data removed]",
      "text/plain": [
       "<matplotlib.figure.Figure at 0x7fbc82c42b70>"
      ]
     },
     "metadata": {},
     "output_type": "display_data"
    }
   ],
   "source": [
    "input_img = CNN_G.predict(noise(1)).reshape(1, 28,28)\n",
    "input_img_raw = CNN_G.predict(noise(1))\n",
    "\n",
    "plot_multi(CNN_G.predict(noise(1)).reshape(1, 28,28), cmap='gray')\n",
    "\n",
    "print(type(input_img))\n",
    "print(input_img.size)\n",
    "print(input_img.shape)\n",
    "print(input_img_raw.size)\n",
    "print(input_img_raw.shape)\n",
    "plt.imshow(input_img[0], cmap='gray')"
   ]
  },
  {
   "cell_type": "code",
   "execution_count": 638,
   "metadata": {
    "collapsed": false,
    "deletable": true,
    "editable": true
   },
   "outputs": [
    {
     "ename": "KeyError",
     "evalue": "'convolution2d_4'",
     "output_type": "error",
     "traceback": [
      "\u001b[0;31m---------------------------------------------------------------------------\u001b[0m",
      "\u001b[0;31mKeyError\u001b[0m                                  Traceback (most recent call last)",
      "\u001b[0;32m<ipython-input-638-5424e4e4ac0c>\u001b[0m in \u001b[0;36m<module>\u001b[0;34m()\u001b[0m\n\u001b[1;32m     11\u001b[0m \u001b[0;31m# build a loss function that maximizes the activation\u001b[0m\u001b[0;34m\u001b[0m\u001b[0;34m\u001b[0m\u001b[0m\n\u001b[1;32m     12\u001b[0m \u001b[0;31m# of the nth filter of the layer considered\u001b[0m\u001b[0;34m\u001b[0m\u001b[0;34m\u001b[0m\u001b[0m\n\u001b[0;32m---> 13\u001b[0;31m \u001b[0mlayer_output\u001b[0m \u001b[0;34m=\u001b[0m \u001b[0mlayer_dict\u001b[0m\u001b[0;34m[\u001b[0m\u001b[0mlayer_name\u001b[0m\u001b[0;34m]\u001b[0m\u001b[0;34m.\u001b[0m\u001b[0moutput\u001b[0m\u001b[0;34m\u001b[0m\u001b[0m\n\u001b[0m\u001b[1;32m     14\u001b[0m \u001b[0mprint\u001b[0m\u001b[0;34m(\u001b[0m\u001b[0mlayer_output\u001b[0m\u001b[0;34m)\u001b[0m\u001b[0;34m\u001b[0m\u001b[0m\n\u001b[1;32m     15\u001b[0m \u001b[0;34m\u001b[0m\u001b[0m\n",
      "\u001b[0;31mKeyError\u001b[0m: 'convolution2d_4'"
     ]
    }
   ],
   "source": [
    "from keras import backend as K\n",
    "\n",
    "layer_dict = dict([(layer.name, layer) for layer in CNN_D.layers])\n",
    "#input_img = CNN_G.predict(noise(1)).reshape(1, 28,28)[0]\n",
    "input_img = CNN_G.predict(noise(1)).reshape(1, 28,28)\n",
    "#plt.imshow(input_img, cmap='gray')\n",
    "\n",
    "layer_name = 'convolution2d_4'\n",
    "filter_index = 2  # can be any integer from 0 to 511, as there are 512 filters in that layer\n",
    "\n",
    "# build a loss function that maximizes the activation\n",
    "# of the nth filter of the layer considered\n",
    "layer_output = layer_dict[layer_name].output\n",
    "print(layer_output)\n",
    "\n",
    "loss = K.mean(layer_output[:, :, :, filter_index])\n",
    "print(loss)\n",
    "\n",
    "# compute the gradient of the input picture wrt this loss\n",
    "print(K.gradients(loss, input_img))\n",
    "grads = K.gradients(loss, input_img)[0]\n",
    "print(grads)\n",
    "\n",
    "# normalization trick: we normalize the gradient\n",
    "#grads /= (K.sqrt(K.mean(K.square(grads))) + 1e-5)\n",
    "\n",
    "# this function returns the loss and grads given the input picture\n",
    "#iterate = K.function([input_img], [loss, grads])"
   ]
  },
  {
   "cell_type": "code",
   "execution_count": null,
   "metadata": {
    "collapsed": true
   },
   "outputs": [],
   "source": [
    "# utility functions\n",
    "from mpl_toolkits.axes_grid1 import make_axes_locatable\n",
    "\n",
    "def nice_imshow(ax, data, vmin=None, vmax=None, cmap=None):\n",
    "    \"\"\"Wrapper around pl.imshow\"\"\"\n",
    "    if cmap is None:\n",
    "        cmap = cm.jet\n",
    "    if vmin is None:\n",
    "        vmin = data.min()\n",
    "    if vmax is None:\n",
    "        vmax = data.max()\n",
    "    divider = make_axes_locatable(ax)\n",
    "    cax = divider.append_axes(\"right\", size=\"5%\", pad=0.05)\n",
    "    im = ax.imshow(data, vmin=vmin, vmax=vmax, interpolation='nearest', cmap=cmap)\n",
    "    pl.colorbar(im, cax=cax)"
   ]
  },
  {
   "cell_type": "code",
   "execution_count": null,
   "metadata": {
    "collapsed": false
   },
   "outputs": [],
   "source": [
    "# this plots the image\n",
    "import pylab as pl\n",
    "import matplotlib.cm as cm\n",
    "#i = 4600\n",
    "i = 1000\n",
    "\n",
    "# Visualize the first layer of convolutions on an input image\n",
    "X = X_test[i:i+1]\n",
    "\n",
    "pl.figure()\n",
    "pl.title('input')\n",
    "nice_imshow(pl.gca(), np.squeeze(X), vmin=0, vmax=1, cmap=cm.binary)"
   ]
  },
  {
   "cell_type": "code",
   "execution_count": null,
   "metadata": {
    "collapsed": true
   },
   "outputs": [],
   "source": [
    "# this plots the weights\n",
    "# I can do it for the first layer kind of wanted to see it for the other layers\n",
    "\n",
    "import numpy.ma as ma\n",
    "def make_mosaic(imgs, nrows, ncols, border=1):\n",
    "    \"\"\"\n",
    "    Given a set of images with all the same shape, makes a\n",
    "    mosaic with nrows and ncols\n",
    "    \"\"\"\n",
    "    nimgs = imgs.shape[0]\n",
    "    imshape = imgs.shape[1:]\n",
    "    \n",
    "    mosaic = ma.masked_all((nrows * imshape[0] + (nrows - 1) * border,\n",
    "                            ncols * imshape[1] + (ncols - 1) * border),\n",
    "                            dtype=np.float32)\n",
    "    \n",
    "    paddedh = imshape[0] + border\n",
    "    paddedw = imshape[1] + border\n",
    "    for i in range(nimgs):\n",
    "        row = int(np.floor(i / ncols))\n",
    "        col = i % ncols\n",
    "        \n",
    "        mosaic[row * paddedh:row * paddedh + imshape[0],\n",
    "               col * paddedw:col * paddedw + imshape[1]] = imgs[i]\n",
    "    return mosaic\n",
    "\n",
    "#pl.imshow(make_mosaic(np.random.random((9, 10, 10)), 3, 3, border=1))"
   ]
  },
  {
   "cell_type": "code",
   "execution_count": null,
   "metadata": {
    "collapsed": false
   },
   "outputs": [],
   "source": [
    "# Visualize weights\n",
    "# this plots the weights\n",
    "# I can do it for the first layer kind of wanted to see it for the other layers\n",
    "print(CNN_D.layers[0])\n",
    "\n",
    "#test = CNN_D.get_weights()[0]\n",
    "#print(type(test))\n",
    "#print(test.shape)\n",
    "print(CNN_D.get_weights()[0].shape)\n",
    "print(CNN_D.get_weights()[1].shape)\n",
    "print(CNN_D.get_weights()[2].shape)\n",
    "print(CNN_D.get_weights()[3].shape)\n",
    "\n",
    "W = CNN_D.get_weights()[0]\n",
    "#W = CNN_D.layers[0].W.get_value(borrow=True)\n",
    "W = np.squeeze(W)\n",
    "W= W.reshape(5,256,5)\n",
    "print(\"W shape : \", W.shape)\n",
    "\n",
    "pl.figure(figsize=(15, 15))\n",
    "pl.title('conv1 weights')\n",
    "nice_imshow(pl.gca(), W[1], vmin=0, vmax=1, cmap=cm.binary)\n",
    "#nice_imshow(pl.gca(), make_mosaic(W, 4,4), cmap=cm.binary)"
   ]
  }
 ],
 "metadata": {
  "anaconda-cloud": {},
  "kernelspec": {
   "display_name": "Python 3",
   "language": "python",
   "name": "python3"
  },
  "language_info": {
   "codemirror_mode": {
    "name": "ipython",
    "version": 3
   },
   "file_extension": ".py",
   "mimetype": "text/x-python",
   "name": "python",
   "nbconvert_exporter": "python",
   "pygments_lexer": "ipython3",
   "version": "3.5.2"
  }
 },
 "nbformat": 4,
 "nbformat_minor": 2
}
