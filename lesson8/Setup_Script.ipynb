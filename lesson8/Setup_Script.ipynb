{
 "cells": [
  {
   "cell_type": "code",
   "execution_count": 2,
   "metadata": {
    "collapsed": false,
    "deletable": true,
    "editable": true
   },
   "outputs": [
    {
     "name": "stdout",
     "output_type": "stream",
     "text": [
      "Requirement already satisfied: image in /usr/local/lib/python3.6/site-packages\n",
      "Requirement already satisfied: django in /usr/local/lib/python3.6/site-packages (from image)\n",
      "Requirement already satisfied: pillow in /usr/local/lib/python3.6/site-packages (from image)\n",
      "Requirement already satisfied: olefile in /usr/local/lib/python3.6/site-packages (from pillow->image)\n",
      "Requirement already satisfied: bcolz in /usr/local/lib/python3.6/site-packages\n",
      "Requirement already satisfied: numpy>=1.7 in /usr/local/lib/python3.6/site-packages (from bcolz)\n",
      "Requirement already satisfied: gensim in /usr/local/lib/python3.6/site-packages\n",
      "Requirement already satisfied: scipy>=0.7.0 in /usr/local/lib/python3.6/site-packages (from gensim)\n",
      "Requirement already satisfied: six>=1.5.0 in /usr/local/lib/python3.6/site-packages (from gensim)\n",
      "Requirement already satisfied: numpy>=1.3 in /usr/local/lib/python3.6/site-packages (from gensim)\n",
      "Requirement already satisfied: smart-open>=1.2.1 in /usr/local/lib/python3.6/site-packages (from gensim)\n",
      "Requirement already satisfied: bz2file in /usr/local/lib/python3.6/site-packages (from smart-open>=1.2.1->gensim)\n",
      "Requirement already satisfied: requests in /usr/local/lib/python3.6/site-packages (from smart-open>=1.2.1->gensim)\n",
      "Requirement already satisfied: boto>=2.32 in /usr/local/lib/python3.6/site-packages (from smart-open>=1.2.1->gensim)\n",
      "Requirement already satisfied: nltk in /usr/local/lib/python3.6/site-packages\n",
      "Requirement already satisfied: six in /usr/local/lib/python3.6/site-packages (from nltk)\n",
      "Requirement already satisfied: keras_tqdm in /usr/local/lib/python3.6/site-packages\n",
      "Requirement already satisfied: Keras in /usr/local/lib/python3.6/site-packages (from keras_tqdm)\n",
      "Requirement already satisfied: tqdm in /usr/local/lib/python3.6/site-packages (from keras_tqdm)\n",
      "Requirement already satisfied: theano in /usr/local/lib/python3.6/site-packages (from Keras->keras_tqdm)\n",
      "Requirement already satisfied: pyyaml in /usr/local/lib/python3.6/site-packages (from Keras->keras_tqdm)\n",
      "Requirement already satisfied: six in /usr/local/lib/python3.6/site-packages (from Keras->keras_tqdm)\n",
      "Requirement already satisfied: numpy>=1.7.1 in /usr/local/lib/python3.6/site-packages (from theano->Keras->keras_tqdm)\n",
      "Requirement already satisfied: scipy>=0.11 in /usr/local/lib/python3.6/site-packages (from theano->Keras->keras_tqdm)\n",
      "Requirement already satisfied: matplotlib in /usr/local/lib/python3.6/site-packages\n",
      "Requirement already satisfied: pytz in /usr/local/lib/python3.6/site-packages (from matplotlib)\n",
      "Requirement already satisfied: six>=1.10 in /usr/local/lib/python3.6/site-packages (from matplotlib)\n",
      "Requirement already satisfied: cycler>=0.10 in /usr/local/lib/python3.6/site-packages (from matplotlib)\n",
      "Requirement already satisfied: python-dateutil in /usr/local/lib/python3.6/site-packages (from matplotlib)\n",
      "Requirement already satisfied: numpy>=1.7.1 in /usr/local/lib/python3.6/site-packages (from matplotlib)\n",
      "Requirement already satisfied: pyparsing!=2.0.0,!=2.0.4,!=2.1.2,!=2.1.6,>=1.5.6 in /usr/local/lib/python3.6/site-packages (from matplotlib)\n",
      "Requirement already satisfied: pandas in /usr/local/lib/python3.6/site-packages\n",
      "Requirement already satisfied: python-dateutil>=2 in /usr/local/lib/python3.6/site-packages (from pandas)\n",
      "Requirement already satisfied: pytz>=2011k in /usr/local/lib/python3.6/site-packages (from pandas)\n",
      "Requirement already satisfied: numpy>=1.7.0 in /usr/local/lib/python3.6/site-packages (from pandas)\n",
      "Requirement already satisfied: six>=1.5 in /usr/local/lib/python3.6/site-packages (from python-dateutil>=2->pandas)\n",
      "Requirement already satisfied: scipy in /usr/local/lib/python3.6/site-packages\n",
      "Requirement already satisfied: numpy>=1.7.1 in /usr/local/lib/python3.6/site-packages (from scipy)\n",
      "Collecting h5py\n",
      "  Downloading h5py-2.6.0-cp36-cp36m-macosx_10_6_intel.macosx_10_9_intel.macosx_10_9_x86_64.macosx_10_10_intel.macosx_10_10_x86_64.whl (4.5MB)\n",
      "\u001b[K    100% |████████████████████████████████| 4.5MB 354kB/s eta 0:00:01\n",
      "\u001b[?25hRequirement already satisfied: numpy>=1.6.1 in /usr/local/lib/python3.6/site-packages (from h5py)\n",
      "Requirement already satisfied: six in /usr/local/lib/python3.6/site-packages (from h5py)\n",
      "Installing collected packages: h5py\n",
      "Successfully installed h5py-2.6.0\n"
     ]
    }
   ],
   "source": [
    "!pip3 install image\n",
    "!pip3 install bcolz\n",
    "!pip3 install gensim\n",
    "!pip3 install nltk\n",
    "!pip3 install keras_tqdm\n",
    "!pip3 install matplotlib\n",
    "!pip3 install pandas\n",
    "!pip3 install scipy\n",
    "!pip3 install h5py\n",
    "\n",
    "\n",
    "#from scipy.misc import imsave"
   ]
  }
 ],
 "metadata": {
  "kernelspec": {
   "display_name": "Python 3",
   "language": "python",
   "name": "python3"
  },
  "language_info": {
   "codemirror_mode": {
    "name": "ipython",
    "version": 3
   },
   "file_extension": ".py",
   "mimetype": "text/x-python",
   "name": "python",
   "nbconvert_exporter": "python",
   "pygments_lexer": "ipython3",
   "version": "3.6.0"
  }
 },
 "nbformat": 4,
 "nbformat_minor": 2
}
